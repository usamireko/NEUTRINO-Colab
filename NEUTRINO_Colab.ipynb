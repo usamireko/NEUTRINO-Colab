{
  "nbformat": 4,
  "nbformat_minor": 0,
  "metadata": {
    "colab": {
      "provenance": [],
      "private_outputs": true,
      "collapsed_sections": [
        "jI3hLEi3FGYB",
        "_KEl9cCt0XkW"
      ],
      "gpuType": "T4",
      "include_colab_link": true
    },
    "kernelspec": {
      "name": "python3",
      "display_name": "Python 3"
    },
    "language_info": {
      "name": "python"
    },
    "accelerator": "GPU"
  },
  "cells": [
    {
      "cell_type": "markdown",
      "metadata": {
        "id": "view-in-github",
        "colab_type": "text"
      },
      "source": [
        "<a href=\"https://colab.research.google.com/github/usamireko/NEUTRINO-Colab/blob/main/NEUTRINO_Colab.ipynb\" target=\"_parent\"><img src=\"https://colab.research.google.com/assets/colab-badge.svg\" alt=\"Open In Colab\"/></a>"
      ]
    },
    {
      "cell_type": "code",
      "execution_count": null,
      "metadata": {
        "id": "n5243CoCn5v5",
        "cellView": "form"
      },
      "outputs": [],
      "source": [
        "#@title Connect your Drive account to Colab (100% necessary because your Google Drive storage will save all the things downloaded)\n",
        "import json\n",
        "import urllib.request\n",
        "import os\n",
        "import glob\n",
        "from google.colab import drive\n",
        "drive.mount(\"/content/drive\")\n",
        "\n",
        "json_url = 'https://raw.githubusercontent.com/usamireko/NEUTRINO-Colab/refs/heads/main/download_info.json'\n",
        "\n",
        "with urllib.request.urlopen(json_url) as response:\n",
        "    config = json.load(response)\n",
        "\n",
        "voice_data = config['voices']\n",
        "neutrino = config['neutrino']"
      ]
    },
    {
      "cell_type": "code",
      "source": [
        "import os\n",
        "from IPython.display import clear_output\n",
        "\n",
        "#@title Install/Update NEUTRINO\n",
        "zip_path = f\"/content/{neutrino['zip']}\"\n",
        "\n",
        "\n",
        "install_dir = \"/content/drive/MyDrive/NEUTRINO\"\n",
        "!mkdir -p \"{install_dir}\"\n",
        "\n",
        "print(f\"Downloading NEUTRINO {neutrino['version']}...\")\n",
        "!gdown {neutrino['id']} -O \"{zip_path}\"\n",
        "\n",
        "temp_extract_dir = \"/content/neutrino_temp_extract\"\n",
        "!mkdir -p \"{temp_extract_dir}\"\n",
        "\n",
        "\n",
        "!unzip \"{zip_path}\" -d \"{temp_extract_dir}\"\n",
        "\n",
        "extracted_contents = os.listdir(temp_extract_dir)\n",
        "\n",
        "\n",
        "extracted_folder_name = None\n",
        "for item in extracted_contents:\n",
        "    if os.path.isdir(os.path.join(temp_extract_dir, item)):\n",
        "        extracted_folder_name = item\n",
        "        break\n",
        "\n",
        "if extracted_folder_name:\n",
        "    source_folder = os.path.join(temp_extract_dir, extracted_folder_name)\n",
        "\n",
        "    !rsync -av \"{source_folder}/\" \"{install_dir}/\"\n",
        "    !rm -r \"{temp_extract_dir}\" #\n",
        "    os.remove(zip_path)\n",
        "\n",
        "    clear_output()\n",
        "    print(f\"NEUTRINO {neutrino['version']} installed at {install_dir}\")\n",
        "else:\n",
        "    print(f\"Error: Could not find the main extracted folder within {temp_extract_dir}\")\n",
        "    print(f\"Contents of {temp_extract_dir}: {extracted_contents}\")\n"
      ],
      "metadata": {
        "id": "oCt4BRlDUeD0",
        "cellView": "form"
      },
      "execution_count": null,
      "outputs": []
    },
    {
      "cell_type": "code",
      "source": [
        "import os # Make sure os is imported\n",
        "from IPython.display import clear_output\n",
        "#@title Select a voicebank to download and install (Nakumo and Merrow are already downloaded)\n",
        "voice = \"Shikoku Metan\"  #@param [\"Kiritan\", \"Nakumo\", \"Tohoku Zunko\", \"Tohoku Itako\", \"Oedo Ochanko\", \"Shikoku Metan\", \"Runo\", \"Merrow\", \"Soma\", \"Zundamon\", \"Seven\", \"JSUT\"]\n",
        "\n",
        "\n",
        "vb = voice_data[voice]\n",
        "zip_path = f\"/content/{vb['zip']}\"\n",
        "temp_dir = \"/content/vb_temp\"\n",
        "target_dir = f\"/content/drive/MyDrive/NEUTRINO/model/{vb['folder']}\"\n",
        "\n",
        "print(f\"Downloading {voice} voicebank...\")\n",
        "\n",
        "!gdown {vb['id']} -O \"{zip_path}\"\n",
        "\n",
        "os.makedirs(temp_dir, exist_ok=True)\n",
        "\n",
        "print(\"Extracting...\")\n",
        "\n",
        "if os.path.exists(zip_path):\n",
        "    !unzip -j \"{zip_path}\" -d \"{temp_dir}\"\n",
        "else:\n",
        "    print(f\"Error: Downloaded zip file not found at '{zip_path}'. Download might have failed or saved elsewhere.\")\n",
        "    exit()\n",
        "\n",
        "print(f\"Moving files to {target_dir}...\")\n",
        "os.makedirs(target_dir, exist_ok=True)\n",
        "!rsync -av \"{temp_dir}/\" \"{target_dir}/\"\n",
        "clear_output()\n",
        "print(\"Cleaning up...\")\n",
        "\n",
        "if os.path.exists(zip_path):\n",
        "    os.remove(zip_path)\n",
        "!rm -rf \"{temp_dir}\"\n",
        "print(f\"{voice} voicebank installed or updated at {target_dir}\")"
      ],
      "metadata": {
        "cellView": "form",
        "id": "TCseYwLkIM1P"
      },
      "execution_count": null,
      "outputs": []
    },
    {
      "cell_type": "code",
      "source": [
        "#@title Not sure about what VB´s you have? Click here!\n",
        "\n",
        "!ls /content/drive/MyDrive/NEUTRINO/model"
      ],
      "metadata": {
        "cellView": "form",
        "id": "xmXkvdmK9mp9"
      },
      "execution_count": null,
      "outputs": []
    },
    {
      "cell_type": "code",
      "source": [
        "#@title Download PAID voicebanks, not gonna provide installers\n",
        "gdrive_ID = ID #@param\n",
        "zip_name = a.zip #@param\n",
        "singer_name = AKANE #@param\n",
        "%cd /content\n",
        "!gdown {gdrive_ID}\n",
        "!mkdir /content/drive/MyDrive/NEUTRINO/model/{singer_name}\n",
        "!unzip -j /content/{filename} /content/drive/MyDrive/NEUTRINO/model/{singer_name}\n",
        "!rm /content/{filename}"
      ],
      "metadata": {
        "id": "qK5fEssIIBqC",
        "cellView": "form"
      },
      "execution_count": null,
      "outputs": []
    },
    {
      "cell_type": "markdown",
      "source": [
        "# Time to run!"
      ],
      "metadata": {
        "id": "vT8UzTqAG9-d"
      }
    },
    {
      "cell_type": "code",
      "source": [
        "#@title Run this first\n",
        "\n",
        "%cd /content/drive/MyDrive/NEUTRINO"
      ],
      "metadata": {
        "cellView": "form",
        "id": "i6fXdq7stS0X"
      },
      "execution_count": null,
      "outputs": []
    },
    {
      "cell_type": "code",
      "source": [
        "#@title And then this\n",
        "%%bash\n",
        "find . -type f -exec chmod 755 \\{\\} \\;\n"
      ],
      "metadata": {
        "cellView": "form",
        "id": "xxbBC1mjoCB9"
      },
      "execution_count": null,
      "outputs": []
    },
    {
      "cell_type": "code",
      "source": [
        "#@title Upload the project file\n",
        "from google.colab import files\n",
        "uploaded = files.upload()\n",
        "\n",
        "!mv *.musicxml /content/drive/MyDrive/NEUTRINO/score/musicxml\n",
        "\n",
        "\n",
        "\n",
        "\n"
      ],
      "metadata": {
        "id": "yIfGD30X5u7b",
        "cellView": "form"
      },
      "execution_count": null,
      "outputs": []
    },
    {
      "cell_type": "markdown",
      "source": [
        "# For users that want a simple and easy run"
      ],
      "metadata": {
        "id": "jI3hLEi3FGYB"
      }
    },
    {
      "cell_type": "code",
      "source": [
        "#@title Parameter config\n",
        "BASENAME = \"sample1\" # @param {\"type\":\"string\"}\n",
        "InferenceMode = \"4\" # @param [\"2\",\"3\",\"4\"]\n",
        "ModelDir = \"MERROW\"   # @param [\"KIRITAN\",\"SEVEN\",\"NAKUMO\",\"YOKO\",\"JSUT\",\"ITAKO\",\"ZUNKO\",\"ZUNDAMON\",\"METAN\",\"MERROW\",\"RUNO\",\"OCHANKO\",\"SOMA\"] {\"type\":\"raw\"}\n",
        "%cd /content/drive/MyDrive/NEUTRINO\n"
      ],
      "metadata": {
        "cellView": "form",
        "id": "UvjkRdiIq8Vc"
      },
      "execution_count": null,
      "outputs": []
    },
    {
      "cell_type": "code",
      "source": [
        "#@title  Render NSF and WORLD results\n",
        "# Run All process\n",
        "\n",
        "%%bash -s \"$BASENAME\" \"$InferenceMode\" \"$ModelDir\"\n",
        "# Project settings\n",
        "BASENAME=$1\n",
        "NumThreads=4\n",
        "InferenceMode=$2\n",
        "\n",
        "# musicXML_to_label\n",
        "SUFFIX=musicxml\n",
        "\n",
        "# NEUTRINO\n",
        "ModelDir=$3\n",
        "StyleShift=0\n",
        "\n",
        "# NSF\n",
        "PitchShiftNsf=0\n",
        "\n",
        "# WORLD\n",
        "PitchShiftWorld=0\n",
        "FormantShift=1.0\n",
        "SmoothPitch=0.0\n",
        "SmoothFormant=0.0\n",
        "EnhanceBreathiness=0.0\n",
        "\n",
        "if [ ${InferenceMode} -eq 4 ]; then\n",
        "    NsfModel=va\n",
        "    SamplingFreq=48\n",
        "elif [ ${InferenceMode} -eq 3 ]; then\n",
        "    NsfModel=vs\n",
        "    SamplingFreq=48\n",
        "elif [ ${InferenceMode} -eq 2 ]; then\n",
        "    NsfModel=ve\n",
        "    SamplingFreq=24\n",
        "fi\n",
        "\n",
        "# PATH to currennt library\n",
        "export LD_LIBRARY_PATH=$PWD/bin:$PWD/NSF/bin:$LD_LIBRARY_PATH\n",
        "\n",
        "echo \"`date +\"%M:%S.%2N\"` : start MusicXMLtoLabel\"\n",
        "./bin/musicXMLtoLabel score/musicxml/${BASENAME}.${SUFFIX} score/label/full/${BASENAME}.lab score/label/mono/${BASENAME}.lab\n",
        "\n",
        "echo \"`date +\"%M:%S.%2N\"` : start NEUTRINO\"\n",
        "./bin/NEUTRINO score/label/full/${BASENAME}.lab score/label/timing/${BASENAME}.lab ./output/${BASENAME}.f0 ./output/${BASENAME}.melspec ./model/${ModelDir}/ -w ./output/${BASENAME}.mgc ./output/${BASENAME}.bap -n 1 -o ${NumThreads} -k ${StyleShift} -d ${InferenceMode} -g 0 -t\n",
        "\n",
        "echo \"`date +\"%M:%S.%2N\"` : start NSF\"\n",
        "./bin/NSF output/${BASENAME}.f0 output/${BASENAME}.melspec ./model/${ModelDir}/${NsfModel}.bin output/${BASENAME}.wav -l score/label/timing/${BASENAME}.lab -n 1 -p ${NumThreads} -s ${SamplingFreq} -f ${PitchShiftNsf} -g 0 -t\n",
        "\n",
        "echo \"`date +\"%M:%S.%2N\"` : start WORLD\"\n",
        "./bin/WORLD output/${BASENAME}.f0 output/${BASENAME}.mgc output/${BASENAME}.bap output/${BASENAME}_world.wav -f ${PitchShiftWorld} -m ${FormantShift} -p ${SmoothPitch} -c ${SmoothFormant} -b ${EnhanceBreathiness} -n ${NumThreads} -t\n",
        "\n",
        "echo \"`date +\"%M:%S.%2N\"` : END\""
      ],
      "metadata": {
        "id": "42NveKVo510X",
        "cellView": "form"
      },
      "execution_count": null,
      "outputs": []
    },
    {
      "cell_type": "code",
      "source": [
        "#@title  Render NSF\n",
        "# Run All process\n",
        "%%bash -s \"$BASENAME\" \"$InferenceMode\" \"$ModelDir\"\n",
        "# Project settings\n",
        "BASENAME=$1\n",
        "NumThreads=4\n",
        "InferenceMode=$2\n",
        "\n",
        "# musicXML_to_label\n",
        "SUFFIX=musicxml\n",
        "\n",
        "# NEUTRINO\n",
        "ModelDir=$3\n",
        "StyleShift=0\n",
        "\n",
        "# NSF\n",
        "PitchShiftNsf=0\n",
        "\n",
        "# WORLD\n",
        "PitchShiftWorld=0\n",
        "FormantShift=1.0\n",
        "SmoothPitch=0.0\n",
        "SmoothFormant=0.0\n",
        "EnhanceBreathiness=0.0\n",
        "\n",
        "if [ ${InferenceMode} -eq 4 ]; then\n",
        "    NsfModel=va\n",
        "    SamplingFreq=48\n",
        "elif [ ${InferenceMode} -eq 3 ]; then\n",
        "    NsfModel=vs\n",
        "    SamplingFreq=48\n",
        "elif [ ${InferenceMode} -eq 2 ]; then\n",
        "    NsfModel=ve\n",
        "    SamplingFreq=24\n",
        "fi\n",
        "\n",
        "# PATH to currennt library\n",
        "export LD_LIBRARY_PATH=$PWD/bin:$PWD/NSF/bin:$LD_LIBRARY_PATH\n",
        "\n",
        "echo \"`date +\"%M:%S.%2N\"` : start MusicXMLtoLabel\"\n",
        "./bin/musicXMLtoLabel score/musicxml/${BASENAME}.${SUFFIX} score/label/full/${BASENAME}.lab score/label/mono/${BASENAME}.lab\n",
        "\n",
        "echo \"`date +\"%M:%S.%2N\"` : start NEUTRINO\"\n",
        "./bin/NEUTRINO score/label/full/${BASENAME}.lab score/label/timing/${BASENAME}.lab ./output/${BASENAME}.f0 ./output/${BASENAME}.melspec ./model/${ModelDir}/ -w ./output/${BASENAME}.mgc ./output/${BASENAME}.bap -n 1 -o ${NumThreads} -k ${StyleShift} -d ${InferenceMode} -g 0 -t\n",
        "\n",
        "echo \"`date +\"%M:%S.%2N\"` : start NSF\"\n",
        "./bin/NSF output/${BASENAME}.f0 output/${BASENAME}.melspec ./model/${ModelDir}/${NsfModel}.bin output/${BASENAME}.wav -l score/label/timing/${BASENAME}.lab -n 1 -p ${NumThreads} -s ${SamplingFreq} -f ${PitchShiftNsf} -g 0 -t\n",
        "\n",
        "echo \"`date +\"%M:%S.%2N\"` : END\""
      ],
      "metadata": {
        "id": "DBMG3Bhi6qQt",
        "cellView": "form"
      },
      "execution_count": null,
      "outputs": []
    },
    {
      "cell_type": "code",
      "source": [
        "#@title Play the latest render\n",
        "from IPython.display import Audio, display\n",
        "\n",
        "if InferenceMode in [\"3\", \"4\"]:\n",
        "    rate = 48000\n",
        "else:\n",
        "    rate = 24000\n",
        "\n",
        "# Play the audio\n",
        "display(Audio(f\"/content/drive/MyDrive/NEUTRINO/output/{BASENAME}.wav\", rate=rate, autoplay=True))\n"
      ],
      "metadata": {
        "id": "XiCsHXBg4veN",
        "cellView": "form"
      },
      "execution_count": null,
      "outputs": []
    },
    {
      "cell_type": "markdown",
      "source": [
        "# For users that want more control of the output"
      ],
      "metadata": {
        "id": "_KEl9cCt0XkW"
      }
    },
    {
      "cell_type": "code",
      "source": [
        "#@title Parameter config\n",
        "BASENAME = \"sample1\" # @param {\"type\":\"string\"}\n",
        "InferenceMode = \"4\"   # @param [\"2\", \"3\", \"4\"]\n",
        "ModelDir = \"KIRITAN\" # @param [\"KIRITAN\",\"SEVEN\",\"NAKUMO\",\"YOKO\",\"JSUT\",\"ITAKO\",\"ZUNKO\",\"ZUNDAMON\",\"METAN\",\"MERROW\",\"RUNO\",\"OCHANKO\",\"SOMA\"]\n",
        "StyleShift = 0 #@param {type:\"slider\", min:-1, max:1, step:0.1}\n",
        "PitchShiftNsf = 0 #@param {type:\"slider\", min:-1, max:1, step:0.1}\n",
        "PitchShiftWorld = 0 #@param {type:\"slider\", min:-1, max:1, step:0.1}\n",
        "FormantShift = 1 # @param\n",
        "SmoothPitch = 0.0 # @param\n",
        "SmoothFormant = 0.0 # @param\n",
        "EnhanceBreathiness = 0.0 # @param\n",
        "NumThreads = 4\n",
        "%cd /content/drive/MyDrive/NEUTRINO"
      ],
      "metadata": {
        "cellView": "form",
        "id": "BKXhewJZtqop"
      },
      "execution_count": null,
      "outputs": []
    },
    {
      "cell_type": "code",
      "source": [
        "\n",
        "#@title Render NSF and WORLD results\n",
        "# Run All process\n",
        "%%bash -s \"$BASENAME\" \"$InferenceMode\" \"$ModelDir\" \"$StyleShift\" \"$PitchShiftNsf\" \"$PitchShiftWorld\" \"$FormantShift\" \"$SmoothPitch\" \"$SmoothFormant\" \"$EnhanceBreathiness\"\n",
        "# Project settings\n",
        "BASENAME=$1\n",
        "NumThreads=4\n",
        "InferenceMode=$2\n",
        "\n",
        "# musicXML_to_label\n",
        "SUFFIX=musicxml\n",
        "\n",
        "# NEUTRINO\n",
        "ModelDir=$3\n",
        "StyleShift=$4\n",
        "\n",
        "# NSF\n",
        "PitchShiftNsf=$5\n",
        "\n",
        "# WORLD\n",
        "PitchShiftWorld=$6\n",
        "FormantShift=$7\n",
        "SmoothPitch=$8\n",
        "SmoothFormant=$9\n",
        "EnhanceBreathiness=$10\n",
        "\n",
        "if [ ${InferenceMode} -eq 4 ]; then\n",
        "    NsfModel=va\n",
        "    SamplingFreq=48\n",
        "elif [ ${InferenceMode} -eq 3 ]; then\n",
        "    NsfModel=vs\n",
        "    SamplingFreq=48\n",
        "elif [ ${InferenceMode} -eq 2 ]; then\n",
        "    NsfModel=ve\n",
        "    SamplingFreq=24\n",
        "fi\n",
        "\n",
        "# PATH to currennt library\n",
        "export LD_LIBRARY_PATH=$PWD/bin:$PWD/NSF/bin:$LD_LIBRARY_PATH\n",
        "\n",
        "echo \"`date +\"%M:%S.%2N\"` : start MusicXMLtoLabel\"\n",
        "./bin/musicXMLtoLabel score/musicxml/${BASENAME}.${SUFFIX} score/label/full/${BASENAME}.lab score/label/mono/${BASENAME}.lab\n",
        "\n",
        "echo \"`date +\"%M:%S.%2N\"` : start NEUTRINO\"\n",
        "./bin/NEUTRINO score/label/full/${BASENAME}.lab score/label/timing/${BASENAME}.lab ./output/${BASENAME}.f0 ./output/${BASENAME}.melspec ./model/${ModelDir}/ -w ./output/${BASENAME}.mgc ./output/${BASENAME}.bap -n 1 -o ${NumThreads} -k ${StyleShift} -d ${InferenceMode} -g 0 -t\n",
        "\n",
        "echo \"`date +\"%M:%S.%2N\"` : start NSF\"\n",
        "./bin/NSF output/${BASENAME}.f0 output/${BASENAME}.melspec ./model/${ModelDir}/${NsfModel}.bin output/${BASENAME}.wav -l score/label/timing/${BASENAME}.lab -n 1 -p ${NumThreads} -s ${SamplingFreq} -f ${PitchShiftNsf} -g 0 -t\n",
        "\n",
        "echo \"`date +\"%M:%S.%2N\"` : start WORLD\"\n",
        "./bin/WORLD output/${BASENAME}.f0 output/${BASENAME}.mgc output/${BASENAME}.bap output/${BASENAME}_world.wav -f ${PitchShiftWorld} -m ${FormantShift} -p ${SmoothPitch} -c ${SmoothFormant} -b ${EnhanceBreathiness} -n ${NumThreads} -t\n",
        "\n",
        "echo \"`date +\"%M:%S.%2N\"` : END\""
      ],
      "metadata": {
        "cellView": "form",
        "id": "c0Ug3tFI0RJ7"
      },
      "execution_count": null,
      "outputs": []
    },
    {
      "cell_type": "code",
      "source": [
        "#@title Render NSF only\n",
        "%%bash -s \"$BASENAME\" \"$InferenceMode\" \"$ModelDir\" \"$StyleShift\" \"$PitchShiftNsf\" \"$PitchShiftWorld\" \"$FormantShift\" \"$SmoothPitch\" \"$SmoothFormant\" \"$EnhanceBreathiness\"\n",
        "# Project settings\n",
        "BASENAME=$1\n",
        "NumThreads=4\n",
        "InferenceMode=$2\n",
        "\n",
        "# musicXML_to_label\n",
        "SUFFIX=musicxml\n",
        "\n",
        "# NEUTRINO\n",
        "ModelDir=$3\n",
        "StyleShift=$4\n",
        "\n",
        "# NSF\n",
        "PitchShiftNsf=$5\n",
        "\n",
        "# WORLD\n",
        "PitchShiftWorld=$6\n",
        "FormantShift=$7\n",
        "SmoothPitch=$8\n",
        "SmoothFormant=$9\n",
        "EnhanceBreathiness=$10\n",
        "\n",
        "if [ ${InferenceMode} -eq 4 ]; then\n",
        "    NsfModel=va\n",
        "    SamplingFreq=48\n",
        "elif [ ${InferenceMode} -eq 3 ]; then\n",
        "    NsfModel=vs\n",
        "    SamplingFreq=48\n",
        "elif [ ${InferenceMode} -eq 2 ]; then\n",
        "    NsfModel=ve\n",
        "    SamplingFreq=24\n",
        "fi\n",
        "\n",
        "# PATH to currennt library\n",
        "export LD_LIBRARY_PATH=$PWD/bin:$PWD/NSF/bin:$LD_LIBRARY_PATH\n",
        "\n",
        "echo \"`date +\"%M:%S.%2N\"` : start MusicXMLtoLabel\"\n",
        "./bin/musicXMLtoLabel score/musicxml/${BASENAME}.${SUFFIX} score/label/full/${BASENAME}.lab score/label/mono/${BASENAME}.lab\n",
        "\n",
        "echo \"`date +\"%M:%S.%2N\"` : start NEUTRINO\"\n",
        "./bin/NEUTRINO score/label/full/${BASENAME}.lab score/label/timing/${BASENAME}.lab ./output/${BASENAME}.f0 ./output/${BASENAME}.melspec ./model/${ModelDir}/ -w ./output/${BASENAME}.mgc ./output/${BASENAME}.bap -n 1 -o ${NumThreads} -k ${StyleShift} -d ${InferenceMode} -g 0 -t\n",
        "\n",
        "echo \"`date +\"%M:%S.%2N\"` : start NSF\"\n",
        "./bin/NSF output/${BASENAME}.f0 output/${BASENAME}.melspec ./model/${ModelDir}/${NsfModel}.bin output/${BASENAME}.wav -l score/label/timing/${BASENAME}.lab -n 1 -p ${NumThreads} -s ${SamplingFreq} -f ${PitchShiftNsf} -g 0 -t\n",
        "\n",
        "echo \"`date +\"%M:%S.%2N\"` : start WORLD\"\n",
        "./bin/WORLD output/${BASENAME}.f0 output/${BASENAME}.mgc output/${BASENAME}.bap output/${BASENAME}_world.wav -f ${PitchShiftWorld} -m ${FormantShift} -p ${SmoothPitch} -c ${SmoothFormant} -b ${EnhanceBreathiness} -n ${NumThreads} -t\n",
        "\n",
        "echo \"`date +\"%M:%S.%2N\"` : END\""
      ],
      "metadata": {
        "cellView": "form",
        "id": "FoWUa7ZeICkl"
      },
      "execution_count": null,
      "outputs": []
    },
    {
      "cell_type": "code",
      "source": [
        "#@title Play the latest render\n",
        "from IPython.display import Audio, display\n",
        "\n",
        "if InferenceMode in [\"3\", \"4\"]:\n",
        "    rate = 48000\n",
        "else:\n",
        "    rate = 24000\n",
        "\n",
        "# Play the audio\n",
        "display(Audio(f\"/content/drive/MyDrive/NEUTRINO/output/{BASENAME}.wav\", rate=rate, autoplay=True))"
      ],
      "metadata": {
        "cellView": "form",
        "id": "HJ17qegzz8PB"
      },
      "execution_count": null,
      "outputs": []
    }
  ]
}